{
 "cells": [
  {
   "cell_type": "code",
   "execution_count": 1,
   "id": "bab94734-97f7-4a46-8333-0f9ff8c891b8",
   "metadata": {
    "jupyter": {
     "source_hidden": true
    },
    "tags": []
   },
   "outputs": [],
   "source": [
    "import pandas as pd\n",
    "\n",
    "from rdkit import Chem\n",
    "from ligand_graph_features import *\n",
    "from torch_geometric.data import DataLoader\n",
    "\n",
    "from model_Yang import GNN\n",
    "from torch_geometric.utils import to_dense_batch"
   ]
  },
  {
   "cell_type": "code",
   "execution_count": 2,
   "id": "81911af2-165f-48e4-8e3c-deff14bea950",
   "metadata": {
    "jupyter": {
     "source_hidden": true
    },
    "tags": []
   },
   "outputs": [],
   "source": [
    "dataset ='tier12'\n",
    "\n",
    "contextpred_config={\n",
    "                 'num_layer': 5,\n",
    "                 'emb_dim': 300,\n",
    "                 'JK': 'last',\n",
    "                 'drop_ratio': 0.5,\n",
    "                 'gnn_type': 'gin'\n",
    "             }"
   ]
  },
  {
   "cell_type": "code",
   "execution_count": 3,
   "id": "ca778320-bea3-403d-a0cc-b278ce1fb8a7",
   "metadata": {},
   "outputs": [],
   "source": [
    "ligandEmbedding = GNN(num_layer=contextpred_config['num_layer'],\n",
    "                       emb_dim=contextpred_config['emb_dim'],\n",
    "                       JK=contextpred_config['JK'],\n",
    "                       drop_ratio=contextpred_config['drop_ratio'],\n",
    "                       gnn_type=contextpred_config['gnn_type'])"
   ]
  },
  {
   "cell_type": "code",
   "execution_count": 4,
   "id": "1ac7a8a6-7508-4235-938d-47bf1cc1fcfa",
   "metadata": {},
   "outputs": [],
   "source": [
    "setting='test'"
   ]
  },
  {
   "cell_type": "code",
   "execution_count": 5,
   "id": "411a174a-db60-413b-a433-e2e26bc01320",
   "metadata": {},
   "outputs": [],
   "source": [
    "train = pd.read_csv(f'data/{setting}/{dataset}-all.csv')"
   ]
  },
  {
   "cell_type": "code",
   "execution_count": 6,
   "id": "a17c7676-ba53-4127-b4c8-b42834cb5234",
   "metadata": {},
   "outputs": [
    {
     "data": {
      "text/plain": [
       "(38533, 3)"
      ]
     },
     "execution_count": 6,
     "metadata": {},
     "output_type": "execute_result"
    }
   ],
   "source": [
    "train.shape"
   ]
  },
  {
   "cell_type": "code",
   "execution_count": 7,
   "id": "b91e99ff-5874-43f4-ba78-f3f32d83e58f",
   "metadata": {
    "tags": []
   },
   "outputs": [
    {
     "name": "stdout",
     "output_type": "stream",
     "text": [
      "766\n",
      "2384\n",
      "7203\n",
      "8144\n",
      "8885\n",
      "8955\n",
      "15460\n",
      "17219\n",
      "21007\n",
      "22655\n",
      "22809\n",
      "23083\n",
      "34013\n",
      "34884\n",
      "35754\n"
     ]
    },
    {
     "name": "stderr",
     "output_type": "stream",
     "text": [
      "RDKit WARNING: [05:51:33] WARNING: not removing hydrogen atom without neighbors\n",
      "RDKit WARNING: [05:51:33] WARNING: not removing hydrogen atom without neighbors\n",
      "RDKit WARNING: [05:51:34] WARNING: not removing hydrogen atom without neighbors\n",
      "RDKit WARNING: [05:51:34] WARNING: not removing hydrogen atom without neighbors\n",
      "RDKit WARNING: [05:51:34] WARNING: not removing hydrogen atom without neighbors\n",
      "RDKit WARNING: [05:51:34] WARNING: not removing hydrogen atom without neighbors\n",
      "RDKit WARNING: [05:51:34] WARNING: not removing hydrogen atom without neighbors\n",
      "RDKit WARNING: [05:51:34] WARNING: not removing hydrogen atom without neighbors\n",
      "RDKit WARNING: [05:51:34] WARNING: not removing hydrogen atom without neighbors\n",
      "RDKit WARNING: [05:51:34] WARNING: not removing hydrogen atom without neighbors\n"
     ]
    }
   ],
   "source": [
    "usable =[]\n",
    "problematic = []\n",
    "i=0\n",
    "for entry in list(train.values):\n",
    "    s = entry[0]\n",
    "    try:\n",
    "        mol = Chem.MolFromSmiles(s)\n",
    "        graph = mol_to_graph_data_obj_simple(mol)\n",
    "        chem_graph_list =  [graph]\n",
    "        chem_graphs_loader = DataLoader(chem_graph_list, batch_size=1,\n",
    "                                shuffle=False)\n",
    "        for batch in chem_graphs_loader:\n",
    "            chem_graphs = batch\n",
    "        node_representation = ligandEmbedding(chem_graphs.x, chem_graphs.edge_index,\n",
    "                                     chem_graphs.edge_attr)\n",
    "        batch_chem_graphs_repr_masked, mask_graph = to_dense_batch(node_representation,\n",
    "                                                        chem_graphs.batch)\n",
    "        usable.append(entry)\n",
    "        i+=1\n",
    "    except:\n",
    "        print(i)\n",
    "        problematic.append(i)\n",
    "        i+=1\n",
    "        "
   ]
  },
  {
   "cell_type": "code",
   "execution_count": 15,
   "id": "8766acac-488c-46c6-bf6b-9eda604a9c06",
   "metadata": {},
   "outputs": [
    {
     "name": "stdout",
     "output_type": "stream",
     "text": [
      "log_s\n",
      "herg_inhibitor\n",
      "cyp1a2_inhibition\n",
      "cyp1a2_inhibition\n",
      "cyp1a2_inhibition\n",
      "cyp1a2_inhibition\n",
      "cyp2d6_inhibition\n",
      "cyp2d6_inhibition\n",
      "cyp2c9_inhibition\n",
      "cyp2c9_inhibition\n",
      "cyp2c9_inhibition\n",
      "cyp2c9_inhibition\n",
      "cyp2c19_inhibition\n",
      "cyp2c19_inhibition\n",
      "cyp2c19_inhibition\n"
     ]
    }
   ],
   "source": [
    "problem_ends = set()\n",
    "for i in problematic:\n",
    "    e = train['endpoint'][i]\n",
    "    problem_ends.add(e)\n",
    "    print(e)"
   ]
  },
  {
   "cell_type": "code",
   "execution_count": 18,
   "id": "e52d0b75-4402-414c-8dce-98f4a19cc888",
   "metadata": {},
   "outputs": [],
   "source": [
    "np.save('data/problem_ends_for_single_task.npy',np.array(problem_ends))"
   ]
  },
  {
   "cell_type": "code",
   "execution_count": 11,
   "id": "b7ebb430-8cfb-49af-a42b-b680ed1a5638",
   "metadata": {},
   "outputs": [
    {
     "data": {
      "text/plain": [
       "-15"
      ]
     },
     "execution_count": 11,
     "metadata": {},
     "output_type": "execute_result"
    }
   ],
   "source": [
    "len(usable)-train.shape[0]"
   ]
  },
  {
   "cell_type": "code",
   "execution_count": 12,
   "id": "c2f49181-dd16-43b3-9c85-e84a71e30f3f",
   "metadata": {},
   "outputs": [],
   "source": [
    "df_usable = pd.DataFrame(usable,columns = train.columns)"
   ]
  },
  {
   "cell_type": "code",
   "execution_count": 13,
   "id": "53904c75-309b-4d1c-9b95-d1a73fdeea7c",
   "metadata": {},
   "outputs": [
    {
     "data": {
      "text/html": [
       "<div>\n",
       "<style scoped>\n",
       "    .dataframe tbody tr th:only-of-type {\n",
       "        vertical-align: middle;\n",
       "    }\n",
       "\n",
       "    .dataframe tbody tr th {\n",
       "        vertical-align: top;\n",
       "    }\n",
       "\n",
       "    .dataframe thead th {\n",
       "        text-align: right;\n",
       "    }\n",
       "</style>\n",
       "<table border=\"1\" class=\"dataframe\">\n",
       "  <thead>\n",
       "    <tr style=\"text-align: right;\">\n",
       "      <th></th>\n",
       "      <th>similes</th>\n",
       "      <th>y</th>\n",
       "      <th>endpoint</th>\n",
       "    </tr>\n",
       "  </thead>\n",
       "  <tbody>\n",
       "    <tr>\n",
       "      <th>0</th>\n",
       "      <td>CC(=O)OC1C2C(CC(C)C3C=CC(=O)C31C)OC(=O)C2C</td>\n",
       "      <td>1</td>\n",
       "      <td>log_s</td>\n",
       "    </tr>\n",
       "    <tr>\n",
       "      <th>1</th>\n",
       "      <td>C=C(Cl)C(N)=O</td>\n",
       "      <td>1</td>\n",
       "      <td>log_s</td>\n",
       "    </tr>\n",
       "    <tr>\n",
       "      <th>2</th>\n",
       "      <td>CC1(C)C(O)C(C)(C)C1O</td>\n",
       "      <td>1</td>\n",
       "      <td>log_s</td>\n",
       "    </tr>\n",
       "    <tr>\n",
       "      <th>3</th>\n",
       "      <td>O=[N+]([O-])c1ccn[nH]1</td>\n",
       "      <td>1</td>\n",
       "      <td>log_s</td>\n",
       "    </tr>\n",
       "    <tr>\n",
       "      <th>4</th>\n",
       "      <td>C=CCCC(=O)C1=CCCC(C)(C)C1</td>\n",
       "      <td>1</td>\n",
       "      <td>log_s</td>\n",
       "    </tr>\n",
       "  </tbody>\n",
       "</table>\n",
       "</div>"
      ],
      "text/plain": [
       "                                      similes  y endpoint\n",
       "0  CC(=O)OC1C2C(CC(C)C3C=CC(=O)C31C)OC(=O)C2C  1    log_s\n",
       "1                               C=C(Cl)C(N)=O  1    log_s\n",
       "2                        CC1(C)C(O)C(C)(C)C1O  1    log_s\n",
       "3                      O=[N+]([O-])c1ccn[nH]1  1    log_s\n",
       "4                   C=CCCC(=O)C1=CCCC(C)(C)C1  1    log_s"
      ]
     },
     "execution_count": 13,
     "metadata": {},
     "output_type": "execute_result"
    }
   ],
   "source": [
    "df_usable.head()"
   ]
  },
  {
   "cell_type": "code",
   "execution_count": 14,
   "id": "05347e2a-7879-4db8-94d1-cf79207da7ef",
   "metadata": {},
   "outputs": [],
   "source": [
    "df_usable.to_csv(f'data/{setting}/{dataset}-all.csv',index=None)"
   ]
  },
  {
   "cell_type": "code",
   "execution_count": null,
   "id": "786451db-25d3-4ae6-9635-d136585caa9c",
   "metadata": {},
   "outputs": [],
   "source": []
  }
 ],
 "metadata": {
  "kernelspec": {
   "display_name": "Python 3",
   "language": "python",
   "name": "python3"
  },
  "language_info": {
   "codemirror_mode": {
    "name": "ipython",
    "version": 3
   },
   "file_extension": ".py",
   "mimetype": "text/x-python",
   "name": "python",
   "nbconvert_exporter": "python",
   "pygments_lexer": "ipython3",
   "version": "3.6.13"
  }
 },
 "nbformat": 4,
 "nbformat_minor": 5
}
