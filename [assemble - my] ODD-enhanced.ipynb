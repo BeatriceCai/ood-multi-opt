{
 "cells": [
  {
   "cell_type": "code",
   "execution_count": 1,
   "id": "b04bf289-53d1-40f7-9a92-0d0348e0db45",
   "metadata": {},
   "outputs": [],
   "source": [
    "import pandas as pd\n",
    "import numpy as np\n",
    "import matplotlib.pyplot as plt"
   ]
  },
  {
   "cell_type": "markdown",
   "id": "d8893349-7dd7-42d0-9966-0e754eb0d392",
   "metadata": {
    "tags": []
   },
   "source": [
    "# set up data and admin"
   ]
  },
  {
   "cell_type": "code",
   "execution_count": 11,
   "id": "2e7245c6-3c55-452f-a6f1-e4a616d2633d",
   "metadata": {},
   "outputs": [],
   "source": [
    "all_config = {'dataset':'tox21',\n",
    "            'batch_size':4,    'use_cuda':0}\n",
    "\n",
    "contextpred_config={\n",
    "                 'num_layer': 5,\n",
    "                 'emb_dim': 300,\n",
    "                 'JK': 'last',\n",
    "                 'drop_ratio': 0.5,\n",
    "                 'gnn_type': 'gin'\n",
    "\n",
    "             }\n",
    "\n",
    "# all_config['datapath']= datapath\n",
    "all_config['gnn_config']=contextpred_config\n",
    "# all_config['checkpoint_dir']=checkpoint_dir\n",
    "\n",
    "endpoint_list = np.load(f\"data/{all_config['dataset']}-endpoints.npy\",allow_pickle=True)\n",
    "\n",
    "head_config = {'input_size': all_config['gnn_config']['emb_dim'],\n",
    "'hidden_size' : 256,\n",
    "'output_size' : 2,\n",
    "'channel_size' :len(endpoint_list),\n",
    "'batch_size' : all_config['batch_size']}\n",
    "\n",
    "\n",
    "\n",
    "all_config['head_config']= head_config"
   ]
  },
  {
   "cell_type": "code",
   "execution_count": 3,
   "id": "12893424-774b-4012-a2d9-0b1e7fb4704a",
   "metadata": {},
   "outputs": [],
   "source": [
    "train_df = pd.read_csv(f\"data/train/{all_config['dataset']}-all.csv\") "
   ]
  },
  {
   "cell_type": "code",
   "execution_count": 4,
   "id": "4f17b2c0-2a7c-420e-a141-b6d1de09e522",
   "metadata": {},
   "outputs": [
    {
     "data": {
      "text/plain": [
       "(62353, 3)"
      ]
     },
     "execution_count": 4,
     "metadata": {},
     "output_type": "execute_result"
    }
   ],
   "source": [
    "train_df.shape"
   ]
  },
  {
   "cell_type": "markdown",
   "id": "65206230-d685-4694-a3c8-b9f144cae463",
   "metadata": {
    "tags": []
   },
   "source": [
    "# model and opt"
   ]
  },
  {
   "cell_type": "code",
   "execution_count": 5,
   "id": "bb01aace-9643-41d2-8734-a94e8b270d4e",
   "metadata": {},
   "outputs": [],
   "source": [
    "from featurizer import featurizer\n",
    "import torch.nn as nn\n",
    "import torch\n",
    "\n",
    "\n",
    "from models import *"
   ]
  },
  {
   "cell_type": "code",
   "execution_count": 15,
   "id": "23df8062-fc5c-4f4e-9c02-bd4ae47f8c72",
   "metadata": {},
   "outputs": [],
   "source": [
    "model = multi_task_baseline(all_config)"
   ]
  },
  {
   "cell_type": "code",
   "execution_count": 9,
   "id": "7debaa61-8411-40cb-889e-e5edf582fda5",
   "metadata": {},
   "outputs": [
    {
     "data": {
      "text/plain": [
       "torch.Size([12, 256, 300])"
      ]
     },
     "execution_count": 9,
     "metadata": {},
     "output_type": "execute_result"
    }
   ],
   "source": [
    "model.w1.shape"
   ]
  },
  {
   "cell_type": "markdown",
   "id": "865f335e-b4ed-42a8-be9e-221788fd42e6",
   "metadata": {
    "tags": []
   },
   "source": [
    "# batch-wise"
   ]
  },
  {
   "cell_type": "code",
   "execution_count": 10,
   "id": "d85d2c41-e703-4830-b37b-fb2790b958ce",
   "metadata": {},
   "outputs": [],
   "source": [
    "batch=train_df.groupby(['endpoint','y']).sample(n=all_config['batch_size'])\n",
    "batch_smiles = batch['similes'].values\n",
    "\n",
    "batch_y = batch['y'].values\n",
    "batch_target = torch.tensor(batch_y.reshape((12,8)).swapaxes(0,1)).long()"
   ]
  },
  {
   "cell_type": "code",
   "execution_count": 30,
   "id": "e960892c-babe-43e5-a5b1-534e57f621fa",
   "metadata": {},
   "outputs": [
    {
     "data": {
      "text/html": [
       "<div>\n",
       "<style scoped>\n",
       "    .dataframe tbody tr th:only-of-type {\n",
       "        vertical-align: middle;\n",
       "    }\n",
       "\n",
       "    .dataframe tbody tr th {\n",
       "        vertical-align: top;\n",
       "    }\n",
       "\n",
       "    .dataframe thead th {\n",
       "        text-align: right;\n",
       "    }\n",
       "</style>\n",
       "<table border=\"1\" class=\"dataframe\">\n",
       "  <thead>\n",
       "    <tr style=\"text-align: right;\">\n",
       "      <th></th>\n",
       "      <th>similes</th>\n",
       "      <th>y</th>\n",
       "      <th>endpoint</th>\n",
       "    </tr>\n",
       "  </thead>\n",
       "  <tbody>\n",
       "    <tr>\n",
       "      <th>20887</th>\n",
       "      <td>CN(C)CCc1c[nH]c2ccc(Cn3cncn3)cc12</td>\n",
       "      <td>0.0</td>\n",
       "      <td>NR-AR</td>\n",
       "    </tr>\n",
       "    <tr>\n",
       "      <th>21648</th>\n",
       "      <td>O=C(N[C@@H](c1ccccc1)[C@@H]1CCCCN1)c1cccc(C(F)...</td>\n",
       "      <td>0.0</td>\n",
       "      <td>NR-AR</td>\n",
       "    </tr>\n",
       "    <tr>\n",
       "      <th>22850</th>\n",
       "      <td>CC(O)C(CO)C(C)O</td>\n",
       "      <td>0.0</td>\n",
       "      <td>NR-AR</td>\n",
       "    </tr>\n",
       "    <tr>\n",
       "      <th>22116</th>\n",
       "      <td>C#C[C@]1(O)CC[C@H]2[C@@H]3CCc4cc(OC)ccc4[C@H]3...</td>\n",
       "      <td>0.0</td>\n",
       "      <td>NR-AR</td>\n",
       "    </tr>\n",
       "    <tr>\n",
       "      <th>23822</th>\n",
       "      <td>C=C1C[C@@H]2[C@H](CC[C@]3(C)C(=O)CC[C@@H]23)[C...</td>\n",
       "      <td>1.0</td>\n",
       "      <td>NR-AR</td>\n",
       "    </tr>\n",
       "    <tr>\n",
       "      <th>25564</th>\n",
       "      <td>O=C(O)C=Cc1ccc(O)c(O)c1</td>\n",
       "      <td>1.0</td>\n",
       "      <td>NR-AR</td>\n",
       "    </tr>\n",
       "    <tr>\n",
       "      <th>24929</th>\n",
       "      <td>C[C@]12CC[C@H]3[C@@H](CC[C@H]4C[C@@H]5S[C@@H]5...</td>\n",
       "      <td>1.0</td>\n",
       "      <td>NR-AR</td>\n",
       "    </tr>\n",
       "    <tr>\n",
       "      <th>24384</th>\n",
       "      <td>N[C@@H](CCC(=O)N[C@@H](CSSC[C@H](NC(=O)CC[C@H]...</td>\n",
       "      <td>1.0</td>\n",
       "      <td>NR-AR</td>\n",
       "    </tr>\n",
       "    <tr>\n",
       "      <th>19725</th>\n",
       "      <td>CCOC(=O)[C@H](CCc1ccccc1)N[C@H]1CCCN2CCC[C@@H]...</td>\n",
       "      <td>0.0</td>\n",
       "      <td>NR-AR-LBD</td>\n",
       "    </tr>\n",
       "    <tr>\n",
       "      <th>16839</th>\n",
       "      <td>CCCCCCCCn1cc[n+](C)c1.F[B-](F)(F)F</td>\n",
       "      <td>0.0</td>\n",
       "      <td>NR-AR-LBD</td>\n",
       "    </tr>\n",
       "  </tbody>\n",
       "</table>\n",
       "</div>"
      ],
      "text/plain": [
       "                                                 similes    y   endpoint\n",
       "20887                  CN(C)CCc1c[nH]c2ccc(Cn3cncn3)cc12  0.0      NR-AR\n",
       "21648  O=C(N[C@@H](c1ccccc1)[C@@H]1CCCCN1)c1cccc(C(F)...  0.0      NR-AR\n",
       "22850                                    CC(O)C(CO)C(C)O  0.0      NR-AR\n",
       "22116  C#C[C@]1(O)CC[C@H]2[C@@H]3CCc4cc(OC)ccc4[C@H]3...  0.0      NR-AR\n",
       "23822  C=C1C[C@@H]2[C@H](CC[C@]3(C)C(=O)CC[C@@H]23)[C...  1.0      NR-AR\n",
       "25564                            O=C(O)C=Cc1ccc(O)c(O)c1  1.0      NR-AR\n",
       "24929  C[C@]12CC[C@H]3[C@@H](CC[C@H]4C[C@@H]5S[C@@H]5...  1.0      NR-AR\n",
       "24384  N[C@@H](CCC(=O)N[C@@H](CSSC[C@H](NC(=O)CC[C@H]...  1.0      NR-AR\n",
       "19725  CCOC(=O)[C@H](CCc1ccccc1)N[C@H]1CCCN2CCC[C@@H]...  0.0  NR-AR-LBD\n",
       "16839                 CCCCCCCCn1cc[n+](C)c1.F[B-](F)(F)F  0.0  NR-AR-LBD"
      ]
     },
     "execution_count": 30,
     "metadata": {},
     "output_type": "execute_result"
    }
   ],
   "source": [
    "batch.head(10)"
   ]
  },
  {
   "cell_type": "code",
   "execution_count": 29,
   "id": "71e989d9-53c6-41ae-a0f3-6ec0606cfbf5",
   "metadata": {},
   "outputs": [
    {
     "data": {
      "text/plain": [
       "array(['NR-AR', 'NR-AR-LBD', 'NR-AhR', 'NR-Aromatase', 'NR-ER',\n",
       "       'NR-ER-LBD', 'NR-PPAR-gamma', 'SR-ARE', 'SR-ATAD5', 'SR-HSE',\n",
       "       'SR-MMP', 'SR-p53'], dtype=object)"
      ]
     },
     "execution_count": 29,
     "metadata": {},
     "output_type": "execute_result"
    }
   ],
   "source": [
    "batch['endpoint'].unique()"
   ]
  },
  {
   "cell_type": "markdown",
   "id": "55d8668c-89f9-4f68-bc09-b2a7efdb3d72",
   "metadata": {},
   "source": [
    "### embedding"
   ]
  },
  {
   "cell_type": "code",
   "execution_count": 18,
   "id": "4b1dd8fe-752c-4154-85ce-9ffa341e32b0",
   "metadata": {},
   "outputs": [],
   "source": [
    "x = model.chem_embed(batch_smiles)\n",
    "mul = model.cal_mul(x)"
   ]
  },
  {
   "cell_type": "code",
   "execution_count": 19,
   "id": "000caa33-f177-427a-b4b0-8fd444cecef2",
   "metadata": {},
   "outputs": [
    {
     "data": {
      "text/plain": [
       "(torch.Size([8, 12, 1, 300]), torch.Size([8, 12, 256]))"
      ]
     },
     "execution_count": 19,
     "metadata": {},
     "output_type": "execute_result"
    }
   ],
   "source": [
    "x.shape,mul.shape"
   ]
  },
  {
   "cell_type": "markdown",
   "id": "c86a069f-54cd-4e9d-b05a-d10e649b4d84",
   "metadata": {},
   "source": [
    "# CORE"
   ]
  },
  {
   "cell_type": "code",
   "execution_count": 26,
   "id": "e678d8e9-05c1-4933-b1f2-e79046d80398",
   "metadata": {},
   "outputs": [],
   "source": [
    "OOD_ratio = 0.4\n",
    "pick_OOD = int( all_config['batch_size']*2*OOD_ratio)"
   ]
  },
  {
   "cell_type": "code",
   "execution_count": 20,
   "id": "d73a5da7-052d-4cac-9fcb-e1e5228b4ff1",
   "metadata": {},
   "outputs": [],
   "source": [
    "mode_set =  mul.mean(0,keepdim=True)[0]"
   ]
  },
  {
   "cell_type": "code",
   "execution_count": 21,
   "id": "6c6ddbf4-7c88-4919-a02f-0ae02cb5be40",
   "metadata": {},
   "outputs": [
    {
     "data": {
      "text/plain": [
       "torch.Size([12, 256])"
      ]
     },
     "execution_count": 21,
     "metadata": {},
     "output_type": "execute_result"
    }
   ],
   "source": [
    "mode_set.shape"
   ]
  },
  {
   "cell_type": "code",
   "execution_count": 27,
   "id": "c0f963d5-c5e9-4779-b00f-b727e12ee8e0",
   "metadata": {},
   "outputs": [
    {
     "name": "stdout",
     "output_type": "stream",
     "text": [
      "--------0\n",
      "[7, 5, 6]\n",
      "--------1\n",
      "[2, 5, 5]\n",
      "--------2\n",
      "[5, 6, 7]\n",
      "--------3\n",
      "[4, 4, 4]\n",
      "--------4\n",
      "[3, 6, 9]\n",
      "--------5\n",
      "[7, 9, 6]\n",
      "--------6\n",
      "[9, 2, 9]\n",
      "--------7\n",
      "[10, 2, 4]\n",
      "--------8\n",
      "[4, 4, 11]\n",
      "--------9\n",
      "[4, 4, 7]\n",
      "--------10\n",
      "[5, 9, 7]\n",
      "--------11\n",
      "[9, 5, 4]\n"
     ]
    }
   ],
   "source": [
    "# i= 3\n",
    "ood_enhance_loss = 0\n",
    "for i in range(len(endpoint_list)):\n",
    "    #............\n",
    "    H= mul[:,i,:]\n",
    "    mode = mode_set[i]\n",
    "    dist_to_mode = torch.cdist(H, mode.unsqueeze(0))#.............. ploted below\n",
    "    id_OOD =  torch.argsort(dist_to_mode.squeeze(1),\n",
    "                            descending=True)[:pick_OOD].detach().numpy().tolist()\n",
    "\n",
    "    h_ood = H[id_OOD]\n",
    "    #............\n",
    "    mo = mode_set.clone()\n",
    "    mo[i] = torch.tensor([9]*model.w1.shape[1])\n",
    "    dist_to_other_mode = torch.cdist(h_ood,mo)\n",
    "    pick_task = dist_to_other_mode.argsort(descending=False)[:,0].detach().numpy().tolist()\n",
    "    print(f'--------{i}')\n",
    "    print(pick_task)\n",
    "    pick_x = x[:,i,:,:][id_OOD].unsqueeze(1)\n",
    "    pick_w = model.w1[pick_task].unsqueeze(1)\n",
    "    pick_b = model.b1[:,pick_task].squeeze(0).unsqueeze(1)\n",
    "    #............\n",
    "    h_ood_pick=((pick_x * pick_w).sum(-1) + pick_b)\n",
    "    ood_enhance_loss_i =  torch.dist(h_ood,h_ood_pick.squeeze())\n",
    "    # print(ood_enhance_loss_i/pick_OOD) \n",
    "    ood_enhance_loss += ood_enhance_loss_i/pick_OOD"
   ]
  },
  {
   "cell_type": "code",
   "execution_count": 250,
   "id": "f564d97c-40e4-49e3-b287-eccd33037474",
   "metadata": {},
   "outputs": [
    {
     "data": {
      "text/plain": [
       "tensor(4.5155, grad_fn=<DivBackward0>)"
      ]
     },
     "execution_count": 250,
     "metadata": {},
     "output_type": "execute_result"
    }
   ],
   "source": [
    "ood_enhance_loss/len(endpoint_list)"
   ]
  },
  {
   "cell_type": "markdown",
   "id": "5df6325b-46b3-4f07-891d-2cb30ae266f1",
   "metadata": {},
   "source": [
    "# ploting"
   ]
  },
  {
   "cell_type": "code",
   "execution_count": 67,
   "id": "a7f45ca8-b978-451a-af84-44585bd2d6e4",
   "metadata": {},
   "outputs": [
    {
     "data": {
      "image/png": "[encoded data removed]",
      "text/plain": [
       "<Figure size 432x288 with 1 Axes>"
      ]
     },
     "metadata": {
      "needs_background": "light"
     },
     "output_type": "display_data"
    }
   ],
   "source": [
    "plt.hist(dist_to_mode.detach().numpy())\n",
    "plt.show()"
   ]
  },
  {
   "cell_type": "markdown",
   "id": "d3c4b980-5419-4672-bce5-6fd704639c4d",
   "metadata": {},
   "source": [
    "# TO-DO:independent adapt"
   ]
  },
  {
   "cell_type": "code",
   "execution_count": 229,
   "id": "c2bfe731-3bc3-4e15-a99f-bb2a0497448a",
   "metadata": {},
   "outputs": [],
   "source": [
    "grad = torch.autograd.grad(ood_enhance_loss_i,pick_w,allow_unused=True)"
   ]
  },
  {
   "cell_type": "code",
   "execution_count": 234,
   "id": "eb7de92f-002c-4de2-83d5-779e2a6b9f0a",
   "metadata": {},
   "outputs": [
    {
     "data": {
      "text/plain": [
       "torch.Size([3, 1, 256, 300])"
      ]
     },
     "execution_count": 234,
     "metadata": {},
     "output_type": "execute_result"
    }
   ],
   "source": [
    "grad[0].shape"
   ]
  },
  {
   "cell_type": "code",
   "execution_count": 235,
   "id": "8f4f4866-220e-4f1c-9704-32358212335c",
   "metadata": {},
   "outputs": [],
   "source": [
    "update_lr=0.0005"
   ]
  },
  {
   "cell_type": "code",
   "execution_count": 238,
   "id": "d900142b-9885-4ed6-a8a1-d1fa1681f13d",
   "metadata": {},
   "outputs": [],
   "source": [
    "fast_w = pick_w - grad[0]*update_lr"
   ]
  },
  {
   "cell_type": "markdown",
   "id": "b3c46f09-6cd8-4bda-a145-2479765395d0",
   "metadata": {},
   "source": [
    "# TO-DO: PGI-loss"
   ]
  },
  {
   "cell_type": "code",
   "execution_count": null,
   "id": "efb40afd-4644-4d51-9b80-7f4b92f13b2c",
   "metadata": {},
   "outputs": [],
   "source": []
  }
 ],
 "metadata": {
  "kernelspec": {
   "display_name": "Python 3",
   "language": "python",
   "name": "python3"
  },
  "language_info": {
   "codemirror_mode": {
    "name": "ipython",
    "version": 3
   },
   "file_extension": ".py",
   "mimetype": "text/x-python",
   "name": "python",
   "nbconvert_exporter": "python",
   "pygments_lexer": "ipython3",
   "version": "3.6.13"
  }
 },
 "nbformat": 4,
 "nbformat_minor": 5
}
